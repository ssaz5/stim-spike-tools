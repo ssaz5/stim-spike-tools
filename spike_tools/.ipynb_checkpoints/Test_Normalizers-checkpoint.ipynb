{
 "cells": [
  {
   "cell_type": "code",
   "execution_count": 4,
   "id": "8c62a02a-1ae8-48db-9484-bfcba6180ea1",
   "metadata": {},
   "outputs": [],
   "source": [
    "import numpy as np\n",
    "import pandas as pd\n",
    "import matplotlib.pyplot as plt\n",
    "import brainscore\n",
    "\n",
    "\n",
    "import scipy.io as sio\n",
    "import h5py\n",
    "from utils.intanutils import read_amplifier\n",
    "from utils.filter import bandpass_filter, notch_filter\n",
    "from utils import find_nearest\n",
    "\n",
    "\n",
    "import os\n",
    "import sys\n",
    "import logging\n",
    "\n",
    "\n",
    "from pathlib import Path\n",
    "import configparser\n",
    "\n",
    "from utils.spikeutils import get_spike_times, get_psth, combine_channels, combine_sessions\n",
    "\n",
    "import xarray"
   ]
  },
  {
   "cell_type": "code",
   "execution_count": 6,
   "id": "9a0626d0-1bf9-495c-9b9a-eab5d513a2ad",
   "metadata": {},
   "outputs": [],
   "source": [
    "normalizer_data = xarray.load_dataset('../../projects/orthographic/monkeys/oleo/intanproc/oleo.rsvp.orthographic.normalizer_psth.h5')"
   ]
  },
  {
   "cell_type": "code",
   "execution_count": 11,
   "id": "f78a4e4f-245e-4f25-8d79-f4a3b16b6e9d",
   "metadata": {},
   "outputs": [
    {
     "data": {
      "text/plain": [
       "(26, 102, 120, 192)"
      ]
     },
     "execution_count": 11,
     "metadata": {},
     "output_type": "execute_result"
    }
   ],
   "source": [
    "normalizer_data.psth.shape"
   ]
  },
  {
   "cell_type": "code",
   "execution_count": null,
   "id": "fbf09abd-c7c0-45ed-8fb2-bc7aece1b8ba",
   "metadata": {},
   "outputs": [],
   "source": []
  }
 ],
 "metadata": {
  "kernelspec": {
   "display_name": "Python 3",
   "language": "python",
   "name": "python3"
  },
  "language_info": {
   "codemirror_mode": {
    "name": "ipython",
    "version": 3
   },
   "file_extension": ".py",
   "mimetype": "text/x-python",
   "name": "python",
   "nbconvert_exporter": "python",
   "pygments_lexer": "ipython3",
   "version": "3.7.10"
  }
 },
 "nbformat": 4,
 "nbformat_minor": 5
}
